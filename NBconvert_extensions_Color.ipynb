{
 "cells": [
  {
   "cell_type": "markdown",
   "id": "86f99c15",
   "metadata": {},
   "source": [
    "#                                         NBconvert +    Background   +   Hidden / NBextensions"
   ]
  },
  {
   "cell_type": "code",
   "execution_count": 2,
   "id": "bc8f2388",
   "metadata": {},
   "outputs": [],
   "source": [
    "\n",
    "import pandas as pd"
   ]
  },
  {
   "cell_type": "code",
   "execution_count": null,
   "id": "b98dcc25",
   "metadata": {},
   "outputs": [],
   "source": []
  },
  {
   "cell_type": "markdown",
   "id": "a03e5510",
   "metadata": {},
   "source": [
    "#                        NBCONVERT"
   ]
  },
  {
   "cell_type": "markdown",
   "id": "e842a5be",
   "metadata": {},
   "source": [
    "#      Presentatie van het resultaat"
   ]
  },
  {
   "cell_type": "markdown",
   "id": "510be954",
   "metadata": {},
   "source": [
    "1. Download the toggle.tpl template file.\n",
    "2. Figure out where your jupyter template directory is, by running from jupyter_core.paths import jupyter_path; print(jupyter_path('nbconvert','templates'))   (zie hieronder)\n",
    "3. Copy the template file to that directory.\n",
    "4. From the command line in the directory containing your notebook, run :\n",
    "     jupyter nbconvert my_notebook.ipynb --template=toggle"
   ]
  },
  {
   "cell_type": "code",
   "execution_count": 3,
   "id": "ae76fb76",
   "metadata": {},
   "outputs": [
    {
     "name": "stdout",
     "output_type": "stream",
     "text": [
      "['C:\\\\Users\\\\User\\\\anaconda3\\\\envs\\\\nieuwe_omgeving\\\\share\\\\jupyter\\\\nbconvert\\\\templates', 'C:\\\\Users\\\\User\\\\AppData\\\\Roaming\\\\jupyter\\\\nbconvert\\\\templates', 'C:\\\\Users\\\\User\\\\AppData\\\\Roaming\\\\Python\\\\share\\\\jupyter\\\\nbconvert\\\\templates', 'C:\\\\ProgramData\\\\jupyter\\\\nbconvert\\\\templates']\n"
     ]
    }
   ],
   "source": [
    "from jupyter_core.paths import jupyter_path; \n",
    "print(jupyter_path('nbconvert','templates'))"
   ]
  },
  {
   "cell_type": "code",
   "execution_count": 4,
   "id": "f08fdcb8",
   "metadata": {},
   "outputs": [],
   "source": [
    "#!jupyter nbconvert my_notebook.ipynb --to slides --template=toggle"
   ]
  },
  {
   "cell_type": "code",
   "execution_count": 5,
   "id": "f1a49994",
   "metadata": {},
   "outputs": [],
   "source": [
    "#  +++++++++++++++++++++++++++++++++++++++++++++++++++++++++++++++++++++++++++++++++++++++++++++++++++++++++++++++++++++++++"
   ]
  },
  {
   "cell_type": "markdown",
   "id": "d9ddd3fe",
   "metadata": {},
   "source": [
    "#                 Html"
   ]
  },
  {
   "cell_type": "code",
   "execution_count": null,
   "id": "f62fc24d",
   "metadata": {},
   "outputs": [],
   "source": [
    " #  wel de juiste naam van dit bestand opnemen !!!!"
   ]
  },
  {
   "cell_type": "code",
   "execution_count": 7,
   "id": "914bcd58",
   "metadata": {},
   "outputs": [
    {
     "name": "stderr",
     "output_type": "stream",
     "text": [
      "[NbConvertApp] Converting notebook NBconvert_extensions_Color.ipynb to html\n",
      "[NbConvertApp] Writing 295066 bytes to NBconvert_extensions_Color.html\n"
     ]
    }
   ],
   "source": [
    "!jupyter nbconvert --to html NBconvert_extensions_Color.ipynb    "
   ]
  },
  {
   "cell_type": "code",
   "execution_count": 7,
   "id": "fc988362",
   "metadata": {},
   "outputs": [],
   "source": [
    "#  +++++++++++++++++++++++++++++++++++++++++++++++++++++++++++++++++++++++++++++++++++++++++++++++++++++++++++++++++++++++++"
   ]
  },
  {
   "cell_type": "markdown",
   "id": "ba6800a5",
   "metadata": {},
   "source": [
    "  Maar wat kunnen we doen met deze HTML?????"
   ]
  },
  {
   "cell_type": "markdown",
   "id": "19ecbbce",
   "metadata": {},
   "source": [
    " #                    PDF ?????"
   ]
  },
  {
   "cell_type": "code",
   "execution_count": 8,
   "id": "c94fe90c",
   "metadata": {},
   "outputs": [
    {
     "name": "stderr",
     "output_type": "stream",
     "text": [
      "[NbConvertApp] Converting notebook NBconvert_extensions_Color.ipynb to PDF\n",
      "[NbConvertApp] Writing 46971 bytes to NBconvert_extensions_Color.pdf\n"
     ]
    }
   ],
   "source": [
    "!jupyter nbconvert --to PDF NBconvert_extensions_Color.ipynb        "
   ]
  },
  {
   "cell_type": "markdown",
   "id": "e402f93a",
   "metadata": {},
   "source": [
    "Ook gelukt!!!!"
   ]
  },
  {
   "cell_type": "code",
   "execution_count": null,
   "id": "f06472c6",
   "metadata": {},
   "outputs": [],
   "source": []
  },
  {
   "cell_type": "code",
   "execution_count": null,
   "id": "d399bb81",
   "metadata": {},
   "outputs": [],
   "source": []
  },
  {
   "cell_type": "code",
   "execution_count": null,
   "id": "307891e4",
   "metadata": {},
   "outputs": [],
   "source": []
  },
  {
   "cell_type": "markdown",
   "id": "d6e47400",
   "metadata": {},
   "source": [
    "#                                Markdown  +  Achtergrond kleur\n"
   ]
  },
  {
   "cell_type": "code",
   "execution_count": 23,
   "id": "87c6f883",
   "metadata": {},
   "outputs": [],
   "source": [
    "#     hieronder de code die je moet hanteren:\n",
    "\n",
    "# <div class=\"alert alert-block alert-info\">\n",
    "#    <b> Tip: this is how to color. </b>\n",
    "# </div>\n",
    "\n",
    "#   daarna omzetten in Markdown   (zie v  Code   )"
   ]
  },
  {
   "cell_type": "markdown",
   "id": "895c4bac",
   "metadata": {},
   "source": [
    "__One - Hot - Encoding__\n",
    "\n",
    "**One - Hot - Encoding**\n",
    "\n",
    "_One - Hot - Encoding_"
   ]
  },
  {
   "cell_type": "markdown",
   "id": "eaac08ed",
   "metadata": {},
   "source": [
    "<div class=\"alert alert-block alert-info\">\n",
    "   <b> Tip: this is how to color. </b>\n",
    "</div>"
   ]
  },
  {
   "cell_type": "markdown",
   "id": "e31d2cbe",
   "metadata": {},
   "source": [
    "<div class=\"alert alert-block alert-success\">\n",
    "   <b> Tip: this is how to color maar nu  TOP  . </b>\n",
    "</div>"
   ]
  },
  {
   "cell_type": "markdown",
   "id": "897b5a20",
   "metadata": {},
   "source": [
    "<div class=\"alert alert-block alert-danger\">\n",
    "   <b> Tip: this is how to color maar nu  ROOOOOD  . </b>\n",
    "</div>"
   ]
  },
  {
   "cell_type": "markdown",
   "id": "74fd7b53",
   "metadata": {},
   "source": [
    "<div class=\"alert alert-block alert-warning\">\n",
    "   <b> Tip: this is how to color maar nu geel. </b>\n",
    "</div>"
   ]
  },
  {
   "cell_type": "code",
   "execution_count": null,
   "id": "dc148bc0",
   "metadata": {},
   "outputs": [],
   "source": []
  },
  {
   "cell_type": "markdown",
   "id": "29d7db0c",
   "metadata": {},
   "source": [
    "#           Handmatig een cel (of alle code cellen) op hidden zetten dan maar......."
   ]
  },
  {
   "cell_type": "code",
   "execution_count": 12,
   "id": "38597d68",
   "metadata": {},
   "outputs": [],
   "source": [
    "X = \"hallo\""
   ]
  },
  {
   "cell_type": "code",
   "execution_count": null,
   "id": "46aba494",
   "metadata": {},
   "outputs": [],
   "source": [
    "#                                     Dit moet je als een hidden instellen\n",
    "#                                  Daarmee zie je dan alleen deze tekst en niet de code \n",
    "#                                  Maar in deze cel wordt X gewijzigd in \"Hidden\"\n",
    "#                                    en dat wordt dan NIET gewijzigd....\n",
    "<div style=\"display:none\">\n",
    "# Dit is een verborgen codecel\n",
    "X = \"Hidden\"\n",
    "print(x)\n",
    "</div>"
   ]
  },
  {
   "cell_type": "code",
   "execution_count": 13,
   "id": "fd1e086a",
   "metadata": {},
   "outputs": [
    {
     "name": "stdout",
     "output_type": "stream",
     "text": [
      "hallo\n"
     ]
    }
   ],
   "source": [
    "print(X)"
   ]
  },
  {
   "cell_type": "code",
   "execution_count": 15,
   "id": "f5adefcf",
   "metadata": {},
   "outputs": [],
   "source": [
    "#   dat lijkt mij niet de bedoeling!!!!!:\n",
    "#   de cel is niet alleen hidden maar de code werkt niet!!!!\n",
    "#   En als je Markdown omzet in Code.... krijg je een fout melding...."
   ]
  },
  {
   "cell_type": "code",
   "execution_count": null,
   "id": "bca93e78",
   "metadata": {},
   "outputs": [],
   "source": []
  },
  {
   "cell_type": "code",
   "execution_count": 16,
   "id": "cb8e5a95",
   "metadata": {},
   "outputs": [],
   "source": [
    "#                                             nbextension                dan maar"
   ]
  },
  {
   "cell_type": "code",
   "execution_count": 17,
   "id": "05343c18",
   "metadata": {},
   "outputs": [],
   "source": [
    "# pip install jupyter_contrib_nbextensions"
   ]
  },
  {
   "cell_type": "code",
   "execution_count": 18,
   "id": "a2b17d4a",
   "metadata": {},
   "outputs": [
    {
     "name": "stdout",
     "output_type": "stream",
     "text": [
      "hallo\n"
     ]
    }
   ],
   "source": [
    "print(X)"
   ]
  },
  {
   "cell_type": "markdown",
   "id": "c963afbb",
   "metadata": {},
   "source": [
    "#   ------------------------------------------------------------------------------------------------"
   ]
  },
  {
   "cell_type": "code",
   "execution_count": null,
   "id": "5048c371",
   "metadata": {},
   "outputs": [],
   "source": []
  }
 ],
 "metadata": {
  "hide_input": false,
  "kernelspec": {
   "display_name": "Python 3 (ipykernel)",
   "language": "python",
   "name": "python3"
  },
  "language_info": {
   "codemirror_mode": {
    "name": "ipython",
    "version": 3
   },
   "file_extension": ".py",
   "mimetype": "text/x-python",
   "name": "python",
   "nbconvert_exporter": "python",
   "pygments_lexer": "ipython3",
   "version": "3.12.8"
  }
 },
 "nbformat": 4,
 "nbformat_minor": 5
}
